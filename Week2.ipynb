{
 "cells": [
  {
   "cell_type": "code",
   "execution_count": 34,
   "metadata": {},
   "outputs": [],
   "source": [
    "'''Write a program that extracts the last three items in the list sports and assigns it to\n",
    "the variable last. Make sure to write your code so that it works no matter how many items are in the list.'''\n",
    "\n",
    "sports = ['cricket', 'football', 'volleyball', 'baseball', 'softball', 'track and field', 'curling', \n",
    "          'ping pong', 'hockey']\n",
    "last=sports[len(sports)-3:]"
   ]
  },
  {
   "cell_type": "code",
   "execution_count": 35,
   "metadata": {},
   "outputs": [
    {
     "data": {
      "text/plain": [
       "['curling', 'ping pong', 'hockey']"
      ]
     },
     "execution_count": 35,
     "metadata": {},
     "output_type": "execute_result"
    }
   ],
   "source": [
    "last"
   ]
  },
  {
   "cell_type": "code",
   "execution_count": 42,
   "metadata": {},
   "outputs": [],
   "source": [
    "'''Write code that combines the following variables so that the sentence “You are doing a great job, keep it up!” \n",
    "is assigned to the variable message. Do not edit the values assigned to by, az, io, or qy.'''\n",
    "by = \"You are\"\n",
    "az = \"doing a great \"\n",
    "io = \"job\"\n",
    "qy = \"keep it up!\"\n",
    "message= by +\" \"+az+io+\", \"+qy\n"
   ]
  },
  {
   "cell_type": "code",
   "execution_count": 43,
   "metadata": {},
   "outputs": [
    {
     "data": {
      "text/plain": [
       "'You are doing a great job, keep it up!'"
      ]
     },
     "execution_count": 43,
     "metadata": {},
     "output_type": "execute_result"
    }
   ],
   "source": [
    "message"
   ]
  },
  {
   "cell_type": "code",
   "execution_count": 44,
   "metadata": {},
   "outputs": [
    {
     "name": "stdout",
     "output_type": "stream",
     "text": [
      "M\n",
      "I\n",
      "C\n",
      "H\n",
      "I\n",
      "G\n",
      "A\n",
      "N\n"
     ]
    }
   ],
   "source": [
    "'''Write one for loop to print out each character of the string my_str on a separate line.'''\n",
    "my_str = \"MICHIGAN\"\n",
    "for chr in my_str:\n",
    "    print(chr)"
   ]
  },
  {
   "cell_type": "code",
   "execution_count": 45,
   "metadata": {},
   "outputs": [
    {
     "name": "stdout",
     "output_type": "stream",
     "text": [
      "hello\n",
      "2\n",
      "4\n",
      "6.0\n",
      "7.5\n",
      "234352354\n",
      "the end\n",
      "\n",
      "99\n",
      "<class 'str'>\n",
      "<class 'int'>\n",
      "<class 'int'>\n",
      "<class 'float'>\n",
      "<class 'float'>\n",
      "<class 'int'>\n",
      "<class 'str'>\n",
      "<class 'str'>\n",
      "<class 'int'>\n"
     ]
    }
   ],
   "source": [
    "'''Write one for loop to print out each element of the list several_things. \n",
    "Then, write another for loop to print out the TYPE of each element of the list several_things. \n",
    "To complete this problem you should have written two different for loops, \n",
    "each of which iterates over the list several_things, \n",
    "but each of those 2 for loops should have a different result.'''\n",
    "several_things = [\"hello\", 2, 4, 6.0, 7.5, 234352354, \"the end\", \"\", 99]\n",
    "for item in several_things:\n",
    "    print(item)\n",
    "for item in several_things:\n",
    "    print(type(item))\n",
    "    "
   ]
  },
  {
   "cell_type": "code",
   "execution_count": 46,
   "metadata": {},
   "outputs": [
    {
     "name": "stdout",
     "output_type": "stream",
     "text": [
      "5\n",
      "0\n",
      "7\n",
      "9\n",
      "13\n"
     ]
    }
   ],
   "source": [
    "'''Write code that uses iteration to print out the length of each element of the list stored in str_list.'''\n",
    "str_list = [\"hello\", \"\", \"goodbye\", \"wonderful\", \"I love Python\"]\n",
    "for strings in str_list:\n",
    "    print(len(strings))"
   ]
  },
  {
   "cell_type": "code",
   "execution_count": 47,
   "metadata": {},
   "outputs": [
    {
     "name": "stdout",
     "output_type": "stream",
     "text": [
      "57\n"
     ]
    }
   ],
   "source": [
    "'''Write code to count the number of characters in original_str using the \n",
    "accumulation pattern and assign the answer to a variable num_chars. \n",
    "Do NOT use the len function to solve the problem \n",
    "(if you use it while you are working on this problem, comment it out afterward!)'''\n",
    "original_str = \"The quick brown rhino jumped over the extremely lazy fox.\"\n",
    "\n",
    "num_chars = 0\n",
    "for eachChar in original_str:\n",
    "    num_chars += 1\n",
    "print(num_chars)"
   ]
  },
  {
   "cell_type": "code",
   "execution_count": 49,
   "metadata": {},
   "outputs": [
    {
     "name": "stdout",
     "output_type": "stream",
     "text": [
      "37\n"
     ]
    }
   ],
   "source": [
    "\"\"\"addition_str is a string with a list of numbers separated by the + sign. \n",
    "Write code that uses the accumulation pattern to take the sum of all of \n",
    "the numbers and assigns it to sum_val (an integer). (You should use the .split(\"+\")\n",
    "function to split by \"+\" and int() to cast to an integer).\"\"\"\n",
    "addition_str = \"2+5+10+20\"\n",
    "numbers=addition_str.split(\"+\")\n",
    "sum_val=0\n",
    "for num in numbers:\n",
    "    sum_val=sum_val+int(num)\n",
    "print(sum_val)"
   ]
  },
  {
   "cell_type": "code",
   "execution_count": 52,
   "metadata": {},
   "outputs": [
    {
     "name": "stdout",
     "output_type": "stream",
     "text": [
      "80.67142857142858\n"
     ]
    }
   ],
   "source": [
    "\"\"\"week_temps_f is a string with a list of fahrenheit temperatures separated by the ,\n",
    "sign. Write code that uses the accumulation pattern to compute the average \n",
    "(sum divided by number of items) and assigns it to avg_temp. Do not hard code \n",
    "your answer (i.e., make your code compute both the sum or the number of items in week_temps_f) \n",
    "(You should use the .split(\",\") function to split by \",\" and float() to cast to a float).\"\"\"\n",
    "week_temps_f = \"75.1,77.7,83.2,82.5,81.0,79.5,85.7\"\n",
    "numbers=week_temps_f.split(\",\")\n",
    "sum_val=0.0\n",
    "for num in numbers:\n",
    "    sum_val=sum_val+float(num)\n",
    "print(sum_val/len(numbers))"
   ]
  },
  {
   "cell_type": "code",
   "execution_count": 53,
   "metadata": {},
   "outputs": [
    {
     "name": "stdout",
     "output_type": "stream",
     "text": [
      "[0, 1, 2, 3, 4, 5, 6, 7, 8, 9, 10, 11, 12, 13, 14, 15, 16, 17, 18, 19, 20, 21, 22, 23, 24, 25, 26, 27, 28, 29, 30, 31, 32, 33, 34, 35, 36, 37, 38, 39, 40, 41, 42, 43, 44, 45, 46, 47, 48, 49, 50, 51, 52, 53, 54, 55, 56, 57, 58, 59, 60, 61, 62, 63, 64, 65, 66, 67]\n"
     ]
    }
   ],
   "source": [
    "'''Write code to create a list of numbers from 0 to 67 and assign that list \n",
    "to the variable nums. Do not hard code the list.'''\n",
    "nums=[]\n",
    "for i in range(0,68):\n",
    "    nums.append(i)\n",
    "print(nums)"
   ]
  },
  {
   "cell_type": "code",
   "execution_count": 55,
   "metadata": {},
   "outputs": [
    {
     "data": {
      "text/plain": [
       "[3, 5, 5, 5, 6, 4, 3, 9, 4, 3]"
      ]
     },
     "execution_count": 55,
     "metadata": {},
     "output_type": "execute_result"
    }
   ],
   "source": [
    "'''Write code to create a list of word lengths for the words in original_str using the \n",
    "accumulation pattern and assign the answer to a \n",
    "variable num_words_list. (You should use the len function).'''\n",
    "original_str = \"The quick brown rhino jumped over the extremely lazy fox\"\n",
    "words=original_str.split(\" \")\n",
    "num_words_list=[]\n",
    "for item in words:\n",
    "    num_words_list.append(len(item))\n",
    "num_words_list"
   ]
  },
  {
   "cell_type": "code",
   "execution_count": 57,
   "metadata": {},
   "outputs": [
    {
     "data": {
      "text/plain": [
       "'bbbbbbb'"
      ]
     },
     "execution_count": 57,
     "metadata": {},
     "output_type": "execute_result"
    }
   ],
   "source": [
    "'''Create an empty string and assign it to the variable lett. Then using range, \n",
    "write code such that when your code is run, lett has 7 b’s (\"bbbbbbb\").'''\n",
    "lett=\"\"\n",
    "for i in range(7):\n",
    "    lett+='b'\n",
    "lett"
   ]
  },
  {
   "cell_type": "code",
   "execution_count": null,
   "metadata": {},
   "outputs": [],
   "source": [
    "'''Write a program that uses the turtle module and a for loop to draw something. \n",
    "It doesn’t have to be complicated, but draw something different than we have done in the past. \n",
    "(Hint: if you are drawing something complicated, it could get tedious to watch it draw over and over. \n",
    "Try setting .\n",
    "speed(10) for the turtle to draw fast, or .speed(0) for it to draw super fast with no animation.)'''\n"
   ]
  }
 ],
 "metadata": {
  "kernelspec": {
   "display_name": "Python 3",
   "language": "python",
   "name": "python3"
  },
  "language_info": {
   "codemirror_mode": {
    "name": "ipython",
    "version": 3
   },
   "file_extension": ".py",
   "mimetype": "text/x-python",
   "name": "python",
   "nbconvert_exporter": "python",
   "pygments_lexer": "ipython3",
   "version": "3.8.3"
  }
 },
 "nbformat": 4,
 "nbformat_minor": 2
}
