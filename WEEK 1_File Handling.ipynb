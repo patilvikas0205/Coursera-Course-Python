{
 "cells": [
  {
   "cell_type": "markdown",
   "metadata": {},
   "source": [
    "# File Handling"
   ]
  },
  {
   "cell_type": "code",
   "execution_count": null,
   "metadata": {},
   "outputs": [],
   "source": [
    "'''The textfile, travel_plans.txt, contains the summer travel plans for someone with some commentary. \n",
    "Find the total number of characters in the file and save to the variable num.'''\n",
    "f=open(\"travel_plans.txt\",\"r\")\n",
    "text=f.read()\n",
    "num=len(text)"
   ]
  },
  {
   "cell_type": "code",
   "execution_count": null,
   "metadata": {},
   "outputs": [],
   "source": [
    "'''We have provided a file called emotion_words.txt that contains lines of words that describe emotions. \n",
    "Find the total number of words in the file and assign this value to the variable num_words.'''\n",
    "num_words = 0\n",
    "with open(\"emotion_words.txt\", 'r') as file:\n",
    "    for line in file:\n",
    "        num_words += len(line.split())\n"
   ]
  },
  {
   "cell_type": "code",
   "execution_count": null,
   "metadata": {},
   "outputs": [],
   "source": [
    "'''Assign to the variable num_lines the number of lines in the file school_prompt.txt.'''\n",
    "\n",
    "num_lines = 0\n",
    "with open(\"school_prompt.txt\", 'r') as file:\n",
    "    for line in file:\n",
    "        num_lines += 1"
   ]
  },
  {
   "cell_type": "code",
   "execution_count": null,
   "metadata": {},
   "outputs": [],
   "source": [
    "'''Assign the first 30 characters of school_prompt.txt as a string to the variable beginning_chars'''\n",
    "\n",
    "\n",
    "with open(\"school_prompt.txt\", 'r') as file:\n",
    "   beginning_chars= file.read(30)"
   ]
  },
  {
   "cell_type": "code",
   "execution_count": null,
   "metadata": {},
   "outputs": [],
   "source": [
    "'''Challenge: Using the file school_prompt.txt, assign the third word of every line to a list called three.'''\n",
    "three = []\n",
    "with open(\"school_prompt.txt\", 'r') as file:\n",
    "    for line in file:\n",
    "        line_list = line.split(\" \")\n",
    "        three.append(line_list[2])\n",
    "print(three)"
   ]
  },
  {
   "cell_type": "code",
   "execution_count": null,
   "metadata": {},
   "outputs": [],
   "source": [
    "'''Challenge: Create a list called emotions that contains the first word of every line in emotion_words.txt'''\n",
    "emotions = []\n",
    "with open(\"emotion_words.txt\", 'r') as file:\n",
    "    for line in file:\n",
    "        line_list = line.split(\" \")\n",
    "        emotions.append(line_list[0])\n",
    "print(emotions)\n"
   ]
  },
  {
   "cell_type": "code",
   "execution_count": null,
   "metadata": {},
   "outputs": [],
   "source": [
    "'''Assign the first 33 characters from the textfile, travel_plans.txt to the variable first_chars.'''\n",
    "with open(\"travel_plans.txt\",\"r\") as file:\n",
    "    first_chars=file.read(33)\n",
    "first_chars"
   ]
  },
  {
   "cell_type": "code",
   "execution_count": null,
   "metadata": {},
   "outputs": [],
   "source": [
    "'''Challenge: Using the file school_prompt.txt, \n",
    "if the character ‘p’ is in a word, then add the word to a list called p_words.'''\n",
    "p_words=[]\n",
    "f=open(\"school_prompt.txt\",\"r\")\n",
    "line=f.read().split()\n",
    "for word in line:\n",
    "    if \"p\" in word:\n",
    "        p_words.append(word)\n",
    "    \n",
    "#p_words=[word for word in line if \"p\" in word]\n",
    "        \n",
    "\n",
    "'''\n",
    "with open(\"school_prompt.txt\",\"r\") as file:\n",
    "    for line in file:\n",
    "        line_word_list=line.split()\n",
    "        for word in line_word_list:\n",
    "            if \"p\" in word:\n",
    "                p_words.append(word)'''\n",
    "p_words\n"
   ]
  }
 ],
 "metadata": {
  "kernelspec": {
   "display_name": "Python 3",
   "language": "python",
   "name": "python3"
  },
  "language_info": {
   "codemirror_mode": {
    "name": "ipython",
    "version": 3
   },
   "file_extension": ".py",
   "mimetype": "text/x-python",
   "name": "python",
   "nbconvert_exporter": "python",
   "pygments_lexer": "ipython3",
   "version": "3.8.3"
  }
 },
 "nbformat": 4,
 "nbformat_minor": 2
}
