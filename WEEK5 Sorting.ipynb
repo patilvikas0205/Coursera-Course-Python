{
 "cells": [
  {
   "cell_type": "code",
   "execution_count": 4,
   "metadata": {},
   "outputs": [
    {
     "name": "stdout",
     "output_type": "stream",
     "text": [
      "['a', 'l', 'w', 'n', 'f', 'i', 'w', 'a', 'k', 's', 'u', 'e', 'z', 'l', 'a', 'e', 'i', 'a', 'j', 's', 'd', 'l']\n",
      "['z', 'w', 'w', 'u', 's', 's', 'n', 'l', 'l', 'l', 'k', 'j', 'i', 'i', 'f', 'e', 'e', 'd', 'a', 'a', 'a', 'a']\n"
     ]
    }
   ],
   "source": [
    "'''Sort the following string alphabetically, from z to a, and assign it to the variable sorted_letters.'''\n",
    "letters = \"alwnfiwaksuezlaeiajsdl\"\n",
    "chrs=[]\n",
    "for chars in letters:\n",
    "    chrs.append(chars)\n",
    "print(chrs)\n",
    "sorted_letters=sorted(chrs,reverse=True)\n",
    "'''print(sorted_chr)\n",
    "sorted_letters=\"\".join(sorted_chr)\n",
    "print(sorted_letters)\n",
    "'''\n",
    "print(sorted_letters)"
   ]
  },
  {
   "cell_type": "code",
   "execution_count": 3,
   "metadata": {},
   "outputs": [
    {
     "name": "stdout",
     "output_type": "stream",
     "text": [
      "['antelope', 'bear', 'cat', 'cow', 'deer', 'elephant', 'elk', 'giraffe', 'goat', 'minx', 'moose', 'otter', 'rabbit', 'salamander', 'tiger', 'yak', 'zebra']\n"
     ]
    }
   ],
   "source": [
    "'''Sort the list below, animals, into alphabetical order, a-z. Save the new list as animals_sorted.'''\n",
    "\n",
    "animals = ['elephant', 'cat', 'moose', 'antelope', 'elk', 'rabbit', 'zebra', 'yak', 'salamander', 'deer', 'otter', 'minx', 'giraffe', 'goat', 'cow', 'tiger', 'bear']\n",
    "\n",
    "animals_sorted=sorted(animals)\n",
    "print(animals_sorted)"
   ]
  },
  {
   "cell_type": "code",
   "execution_count": 5,
   "metadata": {},
   "outputs": [
    {
     "name": "stdout",
     "output_type": "stream",
     "text": [
      "{'South Korea': 21, 'Japan': 41, 'Germany': 42, 'Russia': 56, 'China': 70, 'United States': 121}\n"
     ]
    }
   ],
   "source": [
    "'''The dictionary, medals, shows the medal count for six countries during the Rio Olympics. Sort the country names so \n",
    "they appear alphabetically. Save this list to the variable alphabetical.'''\n",
    "#sort based on value\n",
    "medals = {'Japan':41, 'Russia':56, 'South Korea':21, 'United States':121, 'Germany':42, 'China':70}\n",
    "alphabetical=dict()\n",
    "for k in sorted(medals,key=lambda k:medals[k]):\n",
    "    alphabetical[k]=medals[k]\n",
    "print(alphabetical)\n",
    "    "
   ]
  },
  {
   "cell_type": "code",
   "execution_count": 6,
   "metadata": {},
   "outputs": [
    {
     "name": "stdout",
     "output_type": "stream",
     "text": [
      "['China', 'Germany', 'Japan', 'Russia', 'South Korea', 'United States']\n"
     ]
    }
   ],
   "source": [
    "'''The dictionary, medals, shows the medal count for six countries during the Rio Olympics. Sort the country names so \n",
    "they appear alphabetically. Save this list to the variable alphabetical.'''\n",
    "# sort based on key\n",
    "medals = {'Japan':41, 'Russia':56, 'South Korea':21, 'United States':121, 'Germany':42, 'China':70}\n",
    "alphabetical=sorted(medals.keys())\n",
    "print(alphabetical)"
   ]
  },
  {
   "cell_type": "code",
   "execution_count": 7,
   "metadata": {},
   "outputs": [
    {
     "name": "stdout",
     "output_type": "stream",
     "text": [
      "['United States', 'China', 'Russia', 'Germany', 'Japan', 'South Korea']\n",
      "['United States', 'China', 'Russia']\n"
     ]
    }
   ],
   "source": [
    "'''Given the same dictionary, medals, now sort by the medal count. Save the three countries with the highest medal \n",
    "count to the list, top_three.'''\n",
    "#soretd on value\n",
    "\n",
    "medals = {'Japan':41, 'Russia':56, 'South Korea':21, 'United States':121, 'Germany':42, 'China':70}\n",
    "\n",
    "medals_sorted_on_value=sorted(medals.keys(), key=lambda k: medals[k], reverse=True)\n",
    "print(medals_sorted_on_value)\n",
    "\n",
    "top_three=[]\n",
    "x=len(top_three)\n",
    "for k in medals_sorted_on_value:\n",
    "       if x<3:\n",
    "            top_three.append(k)\n",
    "            x+=1\n",
    "print(top_three)\n"
   ]
  },
  {
   "cell_type": "code",
   "execution_count": 75,
   "metadata": {},
   "outputs": [
    {
     "name": "stdout",
     "output_type": "stream",
     "text": [
      "['granola bars', 'carrots', 'spinach', 'bananas', 'onions', 'apples', 'coffee', 'cereal', 'pasta', 'salsa', 'orange juice', 'peanut butter', 'popcorn', 'rice']\n"
     ]
    }
   ],
   "source": [
    "'''We have provided the dictionary groceries. You should return a list of its keys, but they should be sorted by their values, \n",
    "from highest to lowest. Save the new list as most_needed.'''\n",
    "\n",
    "groceries = {'apples': 5, 'pasta': 3, 'carrots': 12, 'orange juice': 2, 'bananas': 8, 'popcorn': 1, 'salsa': 3, 'cereal': 4, 'coffee': 5, 'granola bars': 15, 'onions': 7, 'rice': 1, 'peanut butter': 2, 'spinach': 9}\n",
    "most_needed=sorted(groceries, key= lambda k:groceries[k],reverse=True)\n",
    "print(most_needed)"
   ]
  },
  {
   "cell_type": "code",
   "execution_count": 76,
   "metadata": {},
   "outputs": [
    {
     "name": "stdout",
     "output_type": "stream",
     "text": [
      "{'granola bars': 15, 'carrots': 12, 'spinach': 9, 'bananas': 8, 'onions': 7, 'apples': 5, 'coffee': 5, 'cereal': 4, 'pasta': 3, 'salsa': 3, 'orange juice': 2, 'peanut butter': 2, 'popcorn': 1, 'rice': 1}\n"
     ]
    }
   ],
   "source": [
    "groceries = {'apples': 5, 'pasta': 3, 'carrots': 12, 'orange juice': 2, 'bananas': 8, 'popcorn': 1, 'salsa': 3, 'cereal': 4, 'coffee': 5, 'granola bars': 15, 'onions': 7, 'rice': 1, 'peanut butter': 2, 'spinach': 9}\n",
    "most_needed=dict()\n",
    "for k in sorted(groceries, key= lambda k:groceries[k],reverse=True):\n",
    "    most_needed[k]=groceries[k]\n",
    "print(most_needed)"
   ]
  },
  {
   "cell_type": "code",
   "execution_count": 124,
   "metadata": {},
   "outputs": [
    {
     "name": "stdout",
     "output_type": "stream",
     "text": [
      "[17570002, 17572342, 17572345, 17573005, 17579000, 17579329]\n"
     ]
    }
   ],
   "source": [
    "'''Create a function called last_four that takes in an ID number and returns the last four digits. \n",
    "For example, the number 17573005 should return 3005. Then, use this function to sort the list of \n",
    "ids stored in the variable, ids, from lowest to highest. Save this sorted list in the variable, \n",
    "sorted_ids. Hint: Remember that only strings can be indexed, so conversions may be needed.'''\n",
    "\n",
    "'''def last_four(x):\n",
    "    ids_f=[]\n",
    "    for idr in x:\n",
    "        idr=str(idr)\n",
    "        ids_f.append(idr[4:])\n",
    "    return ids_f\n",
    "\n",
    "ids = [17573005, 17572342, 17579000, 17570002, 17572345, 17579329]\n",
    "ids=sorted(ids)\n",
    "print(ids)\n",
    "sorted_ids=last_four(ids)\n",
    "print(sorted_ids)'''\n",
    "ids = [17573005, 17572342, 17579000, 17570002, 17572345, 17579329]\n",
    "\n",
    "def last_four(x):\n",
    "    x=str(x)\n",
    "    return (x[-4:])\n",
    "last_four(ids)\n",
    "\n",
    "sorted_ids = sorted(ids,key=last_four)\n",
    "print(sorted_ids)"
   ]
  },
  {
   "cell_type": "code",
   "execution_count": 126,
   "metadata": {},
   "outputs": [
    {
     "name": "stdout",
     "output_type": "stream",
     "text": [
      "[17570002, 17572342, 17572345, 17573005, 17579000, 17579329]\n"
     ]
    }
   ],
   "source": [
    "'''Sort the list ids by the last four digits of each id. Do this using lambda and not using a defined function. \n",
    "Save this sorted list in the variable sorted_id.'''\n",
    "ids = [17573005, 17572342, 17579000, 17570002, 17572345, 17579329]\n",
    "\n",
    "sorted_id=sorted(ids, key=lambda x:str(x)[-4:])\n",
    "print(sorted_id)"
   ]
  },
  {
   "cell_type": "code",
   "execution_count": 128,
   "metadata": {},
   "outputs": [
    {
     "name": "stdout",
     "output_type": "stream",
     "text": [
      "['dance', 'zebra', 'hi', 'how are you', 'apple', 'bye']\n"
     ]
    }
   ],
   "source": [
    "'''Sort the following list by each element’s second letter a to z. Do so by using lambda. \n",
    "Assign the resulting value to the variable lambda_sort.'''\n",
    "\n",
    "ex_lst = ['hi', 'how are you', 'bye', 'apple', 'zebra', 'dance']\n",
    "lambda_sort=sorted(ex_lst,key=lambda x:x[1])\n",
    "print(lambda_sort)"
   ]
  }
 ],
 "metadata": {
  "kernelspec": {
   "display_name": "Python 3",
   "language": "python",
   "name": "python3"
  },
  "language_info": {
   "codemirror_mode": {
    "name": "ipython",
    "version": 3
   },
   "file_extension": ".py",
   "mimetype": "text/x-python",
   "name": "python",
   "nbconvert_exporter": "python",
   "pygments_lexer": "ipython3",
   "version": "3.8.3"
  }
 },
 "nbformat": 4,
 "nbformat_minor": 2
}
