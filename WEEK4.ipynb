{
 "cells": [
  {
   "cell_type": "code",
   "execution_count": 2,
   "metadata": {},
   "outputs": [
    {
     "data": {
      "text/plain": [
       "['I', ' ', 'l', 'o', 'v', 'e', ' ', 'p', 'y', 't', 'h', 'o', 'n']"
      ]
     },
     "execution_count": 2,
     "metadata": {},
     "output_type": "execute_result"
    }
   ],
   "source": [
    "'''Currently there is a string called str1. \n",
    "Write code to create a list called chars which should contain the characters from str1. \n",
    "Each character in str1 should be its own element in the list chars.'''\n",
    "str1 = \"I love python\"\n",
    "chars=[]\n",
    "for cha in str1:\n",
    "    chars.append(cha)\n",
    "chars"
   ]
  },
  {
   "cell_type": "code",
   "execution_count": 3,
   "metadata": {},
   "outputs": [
    {
     "data": {
      "text/plain": [
       "['holiday', 'celebrate!', 'company']"
      ]
     },
     "execution_count": 3,
     "metadata": {},
     "output_type": "execute_result"
    }
   ],
   "source": [
    "a = [\"holiday\", \"celebrate!\"]\n",
    "quiet = a\n",
    "quiet.append(\"company\")\n",
    "a"
   ]
  },
  {
   "cell_type": "code",
   "execution_count": 4,
   "metadata": {},
   "outputs": [
    {
     "name": "stdout",
     "output_type": "stream",
     "text": [
      "['q', 'i']\n"
     ]
    }
   ],
   "source": [
    "b = ['q', 'u', 'i']\n",
    "z = b\n",
    "b[1] = 'i'\n",
    "z.remove('i')\n",
    "print(z)"
   ]
  },
  {
   "cell_type": "code",
   "execution_count": 5,
   "metadata": {},
   "outputs": [
    {
     "data": {
      "text/plain": [
       "['q', 'i']"
      ]
     },
     "execution_count": 5,
     "metadata": {},
     "output_type": "execute_result"
    }
   ],
   "source": [
    "b"
   ]
  },
  {
   "cell_type": "code",
   "execution_count": 11,
   "metadata": {},
   "outputs": [
    {
     "data": {
      "text/plain": [
       "10"
      ]
     },
     "execution_count": 11,
     "metadata": {},
     "output_type": "execute_result"
    }
   ],
   "source": [
    "'''Below are a set of scores that students have received in the past semester. \n",
    "Write code to determine how many are 90 or above and assign that result to the value a_scores.'''\n",
    "scores = \"67 80 90 78 93 20 79 89 96 97 92 88 79 68 58 90 98 100 79 74 83 88 80 86 85 70 90 100\"\n",
    "sc=scores.split(\" \")\n",
    "total=0\n",
    "for marks in sc:\n",
    "    if int(marks) >= 90:\n",
    "        total+=1\n",
    "total"
   ]
  },
  {
   "cell_type": "code",
   "execution_count": 24,
   "metadata": {},
   "outputs": [
    {
     "data": {
      "text/plain": [
       "'OHSE'"
      ]
     },
     "execution_count": 24,
     "metadata": {},
     "output_type": "execute_result"
    }
   ],
   "source": [
    "'''Write code that uses the string stored in org and creates an acronym which \n",
    "is assigned to the variable acro. Only the first letter of each word should be used, \n",
    "each letter in the acronym should be a capital letter, and there should be nothing to separate the \n",
    "letters of the acronym. Words that should not be included in the acronym are stored in the list stopwords. \n",
    "For example, if org was assigned the string “hello to world” then the resulting acronym should be “HW”.'''\n",
    "\n",
    "stopwords = ['to', 'a', 'for', 'by', 'an', 'am', 'the', 'so', 'it', 'and', \"The\"]\n",
    "org = \"The organization for health, safety, and education\"\n",
    "\n",
    "sen=org.split(\" \")\n",
    "acro=\"\"\n",
    "for word in sen:\n",
    "    if not word in stopwords:\n",
    "        acro+=word[0]\n",
    "\n",
    "acro=acro.upper()\n",
    "acro\n",
    "\n"
   ]
  },
  {
   "cell_type": "code",
   "execution_count": 38,
   "metadata": {},
   "outputs": [
    {
     "data": {
      "text/plain": [
       "'WA. EA. AI. AR. VI'"
      ]
     },
     "execution_count": 38,
     "metadata": {},
     "output_type": "execute_result"
    }
   ],
   "source": [
    "'''Write code that uses the string stored in sent and creates an acronym which is assigned to the variable acro. \n",
    "The first two letters of each word should be used, each letter in the acronym should be a capital letter, \n",
    "and each element of the acronym should be separated by a “. ” (dot and space). \n",
    "Words that should not be included in the acronym are stored in the list stopwords. \n",
    "For example, if sent was assigned the string “height and ewok wonder” then the resulting acronym should \n",
    "be “HE. EW. WO”.'''\n",
    "stopwords = ['to', 'a', 'for', 'by', 'an', 'am', 'the', 'so', 'it', 'and', 'The']\n",
    "sent = \"The water earth and air are vital\"\n",
    "sen=sent.split(\" \")\n",
    "acro=[]\n",
    "for word in sen:\n",
    "    if not word in stopwords:\n",
    "        acro.append(word[0:2].upper()+'.')\n",
    "\n",
    "acro=\" \".join(acro)\n",
    "acro=acro[0:len(acro)-1]\n",
    "acro"
   ]
  },
  {
   "cell_type": "code",
   "execution_count": 43,
   "metadata": {},
   "outputs": [
    {
     "data": {
      "text/plain": [
       "'was I tac a ro rac a ti saw'"
      ]
     },
     "execution_count": 43,
     "metadata": {},
     "output_type": "execute_result"
    }
   ],
   "source": [
    "'''A palindrome is a phrase that, if reversed, would read the exact same. \n",
    "Write code that checks if p_phrase is a palindrome by reversing it and then checking if the \n",
    "reversed version is equal to the original. \n",
    "Assign the reversed version of p_phrase to the variable r_phrase so that we can check your work.'''\n",
    "p_phrase = \"was it a car or a cat I saw\"\n",
    "r_phrase = p_phrase[::-1]\n",
    "r_phrase"
   ]
  },
  {
   "cell_type": "code",
   "execution_count": 49,
   "metadata": {},
   "outputs": [
    {
     "name": "stdout",
     "output_type": "stream",
     "text": [
      "The store has 12 shoes, each for 29.99 USD.\n",
      "The store has 20 shirts, each for 9.99 USD.\n",
      "The store has 25 sweatpants, each for 15.00 USD.\n",
      "The store has 13 scarves, each for 7.75 USD.\n"
     ]
    }
   ],
   "source": [
    "'''Provided is a list of data about a store’s inventory where each item \n",
    "in the list represents the name of an item, how much is in stock, and how much it costs. Print out each item in the list with the same formatting, using the .format method (not string concatenation). \n",
    "For example, the first print statment should read The store has 12 shoes, each for 29.99 USD.'''\n",
    "inventory = [\"shoes, 12, 29.99\", \"shirts, 20, 9.99\", \"sweatpants, 25, 15.00\", \"scarves, 13, 7.75\"]\n",
    "for item in inventory:\n",
    "    item_desc=item.split(\", \")\n",
    "    print(\"The store has {} {}, each for {} USD.\".format(item_desc[1],item_desc[0],item_desc[2]))\n"
   ]
  }
 ],
 "metadata": {
  "kernelspec": {
   "display_name": "Python 3",
   "language": "python",
   "name": "python3"
  },
  "language_info": {
   "codemirror_mode": {
    "name": "ipython",
    "version": 3
   },
   "file_extension": ".py",
   "mimetype": "text/x-python",
   "name": "python",
   "nbconvert_exporter": "python",
   "pygments_lexer": "ipython3",
   "version": "3.8.3"
  }
 },
 "nbformat": 4,
 "nbformat_minor": 2
}
