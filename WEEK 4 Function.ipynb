{
 "cells": [
  {
   "cell_type": "code",
   "execution_count": 25,
   "metadata": {},
   "outputs": [
    {
     "name": "stdout",
     "output_type": "stream",
     "text": [
      "[1, 6, 2, 3, 9]\n"
     ]
    }
   ],
   "source": [
    "lst=[1,2,3,4,5,6,7,8,9]\n",
    "lst2=[1, 6, 2, 3, 9]\n",
    "def check_nums(lst1):\n",
    "    number=[]\n",
    "    x=0  \n",
    "    while(x < len(lst1)):\n",
    "        if lst1[x] != 7:\n",
    "            number.append(lst1[x])\n",
    "        if lst1[x] == 7 or x==len(lst1)-1:\n",
    "            \n",
    "            return number\n",
    "            break\n",
    "        x+=1  \n",
    "            \n",
    "print(check_nums(lst2))"
   ]
  },
  {
   "cell_type": "code",
   "execution_count": null,
   "metadata": {},
   "outputs": [],
   "source": [
    "\n",
    "medal_count = {'United States': 70, 'Great Britain':38, 'China':45, 'Russia':30, \n",
    "               'Germany':17, 'Italy':22, 'France': 22, 'Japan':26, 'Australia':22, \n",
    "               'South Korea':14, 'Hungary':12, 'Netherlands':10, 'Spain':5, 'New Zealand':8, \n",
    "               'Canada':13, 'Kazakhstan':8, 'Colombia':4, 'Switzerland':5, 'Belgium':4, \n",
    "               'Thailand':4, 'Croatia':3, 'Iran':3, 'Jamaica':3, 'South Africa':7, \n",
    "               'Sweden':6, 'Denmark':7, 'North Korea':6, 'Kenya':4, 'Brazil':7, 'Belarus':4, \n",
    "               'Cuba':5, 'Poland':4, 'Romania':4, 'Slovenia':3, 'Argentina':2, 'Bahrain':2, \n",
    "               'Slovakia':2, 'Vietnam':2, 'Czech Republic':6, 'Uzbekistan':5}\n",
    "\n"
   ]
  },
  {
   "cell_type": "code",
   "execution_count": 11,
   "metadata": {},
   "outputs": [
    {
     "name": "stdout",
     "output_type": "stream",
     "text": [
      "[1, 2, 3]\n"
     ]
    }
   ],
   "source": [
    "'''Write a function, sublist, that takes in a list of numbers as the parameter. In the function, \n",
    "use a while loop to return a sublist of the input list. \n",
    "The sublist should contain the same values of the original list up until it reaches the number 5'''\n",
    "\n",
    "lst=[1,2,3,5,4,8,9,10]\n",
    "def sublist(lst1):\n",
    "    x=0\n",
    "    number=[]\n",
    "    while(x < len(lst1)):\n",
    "        if lst1[x]!=5:\n",
    "            number.append(lst1[x])\n",
    "        else:\n",
    "            break\n",
    "        x+=1  \n",
    "    return number    \n",
    "print(sublist(lst))\n",
    "'''lst=[1,2,3,4,5]\n",
    "def sublist(lst1):\n",
    "    x=0\n",
    "    number=[]\n",
    "    while(x < len(lst1)):\n",
    "        if x<5 and lst1[x]!=5:\n",
    "            number.append(lst1[x])\n",
    "        else:\n",
    "            break\n",
    "        x+=1  \n",
    "    return number    \n",
    "print(sublist(lst))'''"
   ]
  },
  {
   "cell_type": "code",
   "execution_count": 30,
   "metadata": {},
   "outputs": [
    {
     "data": {
      "text/plain": [
       "['Hi', 'HELLO']"
      ]
     },
     "execution_count": 30,
     "metadata": {},
     "output_type": "execute_result"
    }
   ],
   "source": [
    "'''Write a function, sublist, that takes in a list of strings as the parameter. In the function, use a while loop to return a sublist of the input list. The sublist should contain the same values of the original list \n",
    "up until it reaches the string “STOP” (it should not contain the string “STOP”).'''\n",
    "\n",
    "\n",
    "lst2=[\"Hi\",\"HELLO\",\"STOP\"]\n",
    "def sublist(lst1):\n",
    "    sublist=[]\n",
    "    x=0  \n",
    "    while(x < len(lst1)):\n",
    "        if lst1[x] != \"STOP\":\n",
    "            sublist.append(lst1[x])\n",
    "        if lst1[x] == \"STOP\" or x==len(lst1)-1:\n",
    "            \n",
    "            return sublist\n",
    "            break\n",
    "        x+=1  \n",
    "    \n",
    "sublist(lst2)"
   ]
  },
  {
   "cell_type": "code",
   "execution_count": 58,
   "metadata": {},
   "outputs": [
    {
     "data": {
      "text/plain": [
       "['Vikas']"
      ]
     },
     "execution_count": 58,
     "metadata": {},
     "output_type": "execute_result"
    }
   ],
   "source": [
    "'''Write a function called stop_at_z that iterates through a list of strings. Using a while loop, append each string to a new \n",
    "list until the string that appears is “z”. The function should return the new list.'''\n",
    "lst=[\"Vikas\",\"zeal\", \"Patil\"]\n",
    "length=len(lst)\n",
    "def stop_at_z(lst1):\n",
    "    sublist=[]\n",
    "    x=0\n",
    "    while (x < length):\n",
    "        if not \"z\" in lst1[x]:\n",
    "            sublist.append(lst1[x])\n",
    "        else:   \n",
    "            return sublist\n",
    "        x+=1 \n",
    "stop_at_z(lst)"
   ]
  },
  {
   "cell_type": "code",
   "execution_count": 6,
   "metadata": {},
   "outputs": [
    {
     "data": {
      "text/plain": [
       "['Hi', 'HELLO']"
      ]
     },
     "execution_count": 6,
     "metadata": {},
     "output_type": "execute_result"
    }
   ],
   "source": [
    "'''Challenge: Write a function called beginning that takes a list as input and contains a while \n",
    "loop that only stops once the element of the list is the string ‘bye’. What is returned is a list that \n",
    "contains up to the first 10 strings, regardless of where the loop stops. (i.e., if it stops on the 32nd element, the first 10 are returned. If “bye” is the 5th element, the first 4 are returned.) \n",
    "If you want to make this even more of a challenge, do this without slicing'''\n",
    "\n",
    "\n",
    "lst2=[\"Hi\",\"HELLO\",\"bye\",\"go\"]\n",
    "def beginning(lst1):\n",
    "    sublist=[]\n",
    "    x=0  \n",
    "    while(x < len(lst1)):\n",
    "        if lst1[x] != \"bye\":\n",
    "            sublist.append(lst1[x])\n",
    "        if lst1[x] == \"bye\" or x==len(lst1)-1:\n",
    "            if x < 10:\n",
    "                return sublist\n",
    "            else:\n",
    "                length=len(sublist)\n",
    "                y=0\n",
    "                sublist1=[]\n",
    "                for y in range(length):\n",
    "                    if y<10:\n",
    "                         sublist1.append(sublist[y])\n",
    "                return sublist1\n",
    "        x+=1  \n",
    "    \n",
    "beginning(lst2)\n"
   ]
  },
  {
   "cell_type": "code",
   "execution_count": 7,
   "metadata": {},
   "outputs": [
    {
     "data": {
      "text/plain": [
       "['Hi', 'HELLO', 'STOP']"
      ]
     },
     "execution_count": 7,
     "metadata": {},
     "output_type": "execute_result"
    }
   ],
   "source": [
    "'''Write a function called stop_at_z that iterates through a list of strings. Using a while\n",
    "loop, append each string to a new\n",
    "list until the string that appears is “z”. The function should return the new list.'''\n",
    "\n",
    "lst2=[\"Hi\",\"HELLO\",\"STOP\",\"z\"]\n",
    "def stop_at_z(lst1):\n",
    "    sublist=[]\n",
    "    x=0  \n",
    "    while(x < len(lst1)):\n",
    "        if lst1[x] != \"z\":\n",
    "            sublist.append(lst1[x])\n",
    "        if lst1[x] == \"z\" or x==len(lst1)-1:\n",
    "            return sublist\n",
    "            \n",
    "        x+=1  \n",
    "    \n",
    "stop_at_z(lst2)\n"
   ]
  },
  {
   "cell_type": "code",
   "execution_count": null,
   "metadata": {},
   "outputs": [],
   "source": []
  }
 ],
 "metadata": {
  "kernelspec": {
   "display_name": "Python 3",
   "language": "python",
   "name": "python3"
  },
  "language_info": {
   "codemirror_mode": {
    "name": "ipython",
    "version": 3
   },
   "file_extension": ".py",
   "mimetype": "text/x-python",
   "name": "python",
   "nbconvert_exporter": "python",
   "pygments_lexer": "ipython3",
   "version": "3.8.3"
  }
 },
 "nbformat": 4,
 "nbformat_minor": 2
}
