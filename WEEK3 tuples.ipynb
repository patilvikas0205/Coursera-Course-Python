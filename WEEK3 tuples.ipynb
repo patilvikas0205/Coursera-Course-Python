{
 "cells": [
  {
   "cell_type": "code",
   "execution_count": 3,
   "metadata": {},
   "outputs": [
    {
     "data": {
      "text/plain": [
       "tuple"
      ]
     },
     "execution_count": 3,
     "metadata": {},
     "output_type": "execute_result"
    }
   ],
   "source": [
    "'''Create a tuple called olympics with four elements: “Beijing”, “London”, “Rio”, “Tokyo”.'''\n",
    "olympics=(\"Beijing\", \"London\", \"Rio\", \"Tokyo\")\n",
    "type(olympicsympics)"
   ]
  },
  {
   "cell_type": "code",
   "execution_count": 5,
   "metadata": {},
   "outputs": [
    {
     "data": {
      "text/plain": [
       "['China', 'England', 'Brazil', 'Japan']"
      ]
     },
     "execution_count": 5,
     "metadata": {},
     "output_type": "execute_result"
    }
   ],
   "source": [
    "'''The list below, tuples_lst, is a list of tuples. Create a list of the second elements of each \n",
    "tuple and assign this list to the variable country.'''\n",
    "\n",
    "tuples_lst = [('Beijing', 'China', 2008), ('London', 'England', 2012), ('Rio', 'Brazil', 2016, 'Current'), ('Tokyo', 'Japan', 2020, 'Future')]\n",
    "country=[tpl[1] for tpl in tuples_lst ]\n",
    "country"
   ]
  },
  {
   "cell_type": "code",
   "execution_count": 15,
   "metadata": {},
   "outputs": [
    {
     "name": "stdout",
     "output_type": "stream",
     "text": [
      "Rio\n",
      "Brazil\n",
      "2016\n"
     ]
    }
   ],
   "source": [
    "\"Unpacking of tuple\"\n",
    "\"\"\"With only one line of code, assign the variables city, country, and year to the values of the tuple olymp.\"\"\"\n",
    "olymp = ('Rio', 'Brazil', 2016)\n",
    "(city,country,year)=olymp\n",
    "print(city)\n",
    "print(country)\n",
    "print(year)"
   ]
  },
  {
   "cell_type": "code",
   "execution_count": 13,
   "metadata": {},
   "outputs": [
    {
     "data": {
      "text/plain": [
       "[31, 19, 19, 13, 12, 10, 8, 8]"
      ]
     },
     "execution_count": 13,
     "metadata": {},
     "output_type": "execute_result"
    }
   ],
   "source": [
    "'''Given is the dictionary, gold, which shows the country and the number of gold medals \n",
    "they have earned so far in the 2016 Olympics. Create a list, num_medals, that contains only the \n",
    "number of medals for each country. You must use the .items() method. Note: \n",
    "The .items() method provides a list of tuples. Do not use .keys() method.'''\n",
    "\n",
    "gold = {'USA':31, 'Great Britain':19, 'China':19, 'Germany':13, 'Russia':12, 'Japan':10, 'France':8, 'Italy':8}\n",
    "num_medals=[v for k,v in gold.items()]\n",
    "num_medals\n"
   ]
  },
  {
   "cell_type": "code",
   "execution_count": 21,
   "metadata": {},
   "outputs": [
    {
     "data": {
      "text/plain": [
       "('A', 'M', 34, 'May', 'Pune')"
      ]
     },
     "execution_count": 21,
     "metadata": {},
     "output_type": "execute_result"
    }
   ],
   "source": [
    "'''Define a function called info with five parameters: name, gender, age, bday_month, and hometown. \n",
    "The function should then return a tuple with all five parameters in that order.'''\n",
    "def info(name, gender, age, bday_month, hometown):\n",
    "    return tuple((name, gender, age, bday_month, hometown))\n",
    "\n",
    "info(\"A\",\"M\",34,\"May\",\"Pune\")"
   ]
  },
  {
   "cell_type": "code",
   "execution_count": null,
   "metadata": {},
   "outputs": [],
   "source": []
  },
  {
   "cell_type": "code",
   "execution_count": null,
   "metadata": {},
   "outputs": [],
   "source": []
  }
 ],
 "metadata": {
  "kernelspec": {
   "display_name": "Python 3",
   "language": "python",
   "name": "python3"
  },
  "language_info": {
   "codemirror_mode": {
    "name": "ipython",
    "version": 3
   },
   "file_extension": ".py",
   "mimetype": "text/x-python",
   "name": "python",
   "nbconvert_exporter": "python",
   "pygments_lexer": "ipython3",
   "version": "3.8.3"
  }
 },
 "nbformat": 4,
 "nbformat_minor": 2
}
