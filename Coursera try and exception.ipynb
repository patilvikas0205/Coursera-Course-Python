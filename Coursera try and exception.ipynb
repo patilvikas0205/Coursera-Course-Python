{
 "cells": [
  {
   "cell_type": "code",
   "execution_count": 19,
   "metadata": {},
   "outputs": [
    {
     "name": "stdout",
     "output_type": "stream",
     "text": [
      "[0, 'Error', 0, 4, 0, 0, 'Error', 0, 36, 'Error', 36, 'Error', 0, 13]\n"
     ]
    }
   ],
   "source": [
    "'''The list, numb, contains integers. Write code that populates the list remainder with the remainder \n",
    "of 36 divided by each number in numb. For example, the first element should be 0, because 36/6 has no remainder. \n",
    "If there is an error, have the string “Error” appear in the remainder'''\n",
    "numb = [6, 0, 36, 8, 2, 36, 0, 12, 60, 0, 45, 0, 3, 23]\n",
    "\n",
    "remainder = []\n",
    "\n",
    "for num in numb:\n",
    "            try:\n",
    "                remainder.append(36%num) \n",
    "            except:\n",
    "                remainder.append('Error')             \n",
    "print(remainder)\n"
   ]
  },
  {
   "cell_type": "code",
   "execution_count": 20,
   "metadata": {},
   "outputs": [
    {
     "name": "stdout",
     "output_type": "stream",
     "text": [
      "error\n",
      "error\n"
     ]
    }
   ],
   "source": [
    "'''Provided is buggy code, insert a try/except so that the code passes.'''\n",
    "lst = [2,4,10,42,12,0,4,7,21,4,83,8,5,6,8,234,5,6,523,42,34,0,234,1,435,465,56,7,3,43,23]\n",
    "\n",
    "lst_three = []\n",
    "\n",
    "for num in lst:\n",
    "    try:\n",
    "        if 3 % num == 0:\n",
    "               lst_three.append(num)\n",
    "    except:\n",
    "            print(\"error\")\n"
   ]
  },
  {
   "cell_type": "code",
   "execution_count": 22,
   "metadata": {},
   "outputs": [
    {
     "name": "stdout",
     "output_type": "stream",
     "text": [
      "['b', 'd', 'g', 'Error', 'k', 'o', 'r', 'Error', 'v', 'x', 'Error']\n"
     ]
    }
   ],
   "source": [
    "'''Write code so that the buggy code provided works using a try/except. \n",
    "When the codes does not work in the try, have it append to the list attempt the string “Error”.'''\n",
    "full_lst = [\"ab\", 'cde', 'fgh', 'i', 'jkml', 'nop', 'qr', 's', 'tv', 'wxy', 'z']\n",
    "\n",
    "attempt = []\n",
    "\n",
    "for elem in full_lst:\n",
    "    \n",
    "    try:\n",
    "        attempt.append(elem[1])\n",
    "    except:\n",
    "        attempt.append(\"Error\")\n",
    "print(attempt)"
   ]
  },
  {
   "cell_type": "code",
   "execution_count": 24,
   "metadata": {},
   "outputs": [
    {
     "name": "stdout",
     "output_type": "stream",
     "text": [
      "[1, 'Did not get gold', 'Did not get gold', 10, 'Did not get gold', 46]\n"
     ]
    }
   ],
   "source": [
    "'''The code below takes the list of country, country, and searches to see if it is \n",
    "in the dictionary gold which shows some countries who won gold during the Olympics. \n",
    "However, this code currently does not work. Correctly add try/except clause in the code so that it will \n",
    "correctly populate the list, \n",
    "country_gold, with either the number of golds won or the string “Did not get gold”.'''\n",
    "\n",
    "gold = {\"US\":46, \"Fiji\":1, \"Great Britain\":27, \"Cuba\":5, \"Thailand\":2, \"China\":26, \"France\":10}\n",
    "country = [\"Fiji\", \"Chile\", \"Mexico\", \"France\", \"Norway\", \"US\"]\n",
    "country_gold = []\n",
    "\n",
    "for x in country:\n",
    "    try:\n",
    "        country_gold.append(gold[x])\n",
    "    except:\n",
    "        country_gold.append(\"Did not get gold\")\n",
    "\n",
    "print(country_gold)"
   ]
  },
  {
   "cell_type": "code",
   "execution_count": 25,
   "metadata": {},
   "outputs": [
    {
     "name": "stdout",
     "output_type": "stream",
     "text": [
      "Total number of puppies: 40\n"
     ]
    }
   ],
   "source": [
    "'''Provided is a buggy for loop that tries to accumulate some values out of some \n",
    "dictionaries. Insert a try/except so that the code passes.'''\n",
    "di = [{\"Puppies\": 17, 'Kittens': 9, \"Birds\": 23, 'Fish': 90, \"Hamsters\": 49}, {\"Puppies\": 23, \"Birds\": 29, \"Fish\": 20, \"Mice\": 20, \"Snakes\": 7}, {\"Fish\": 203, \"Hamsters\": 93, \"Snakes\": 25, \"Kittens\": 89}, {\"Birds\": 20, \"Puppies\": 90, \"Snakes\": 21, \"Fish\": 10, \"Kittens\": 67}]\n",
    "total = 0\n",
    "for diction in di:\n",
    "    try:\n",
    "        total = total + diction['Puppies']\n",
    "    except:\n",
    "        print(\"Total number of puppies:\", total)\n"
   ]
  },
  {
   "cell_type": "code",
   "execution_count": 26,
   "metadata": {},
   "outputs": [
    {
     "name": "stdout",
     "output_type": "stream",
     "text": [
      "['Greece', 'Canada', 'Korea', 'Brazil', 'Continent does not have 3 countries', 'Kenya', 'Continent does not have 3 countries']\n"
     ]
    }
   ],
   "source": [
    "'''The following code tries to append the third element of each list in conts to the new \n",
    "list third_countries. Currently, the code does not work. Add a try/except clause so the code \n",
    "runs without errors, and the string \n",
    "‘Continent does not have 3 countries’ is appended to countries instead of producing an error.'''\n",
    "conts = [['Spain', 'France', 'Greece', 'Portugal', 'Romania', 'Germany'], ['USA', 'Mexico', 'Canada'], ['Japan', 'China', 'Korea', 'Vietnam', 'Cambodia'], ['Argentina', 'Chile', 'Brazil', 'Ecuador', 'Uruguay', 'Venezuela'], ['Australia'], ['Zimbabwe', 'Morocco', 'Kenya', 'Ethiopa', 'South Africa'], ['Antarctica']]\n",
    "\n",
    "third_countries = []\n",
    "\n",
    "for c in conts:\n",
    "    try:\n",
    "        third_countries.append(c[2])\n",
    "    except:\n",
    "        third_countries.append('Continent does not have 3 countries')\n",
    "print(third_countries)"
   ]
  },
  {
   "cell_type": "code",
   "execution_count": 28,
   "metadata": {},
   "outputs": [
    {
     "name": "stdout",
     "output_type": "stream",
     "text": [
      "4\n",
      "10\n",
      "8\n",
      "15\n",
      "{'hockey': 4, 'soccer': 10, 'football': 15, 'tennis': 8, 'basketball': 1, 'baseball': 1}\n"
     ]
    }
   ],
   "source": [
    "'''The buggy code below prints out the value of the sport in the list sport. \n",
    "se try/except so that the code will run properly. \n",
    "If the sport is not in the dictionary, ppl_play, add it in with the value of 1.'''\n",
    "sport = [\"hockey\", \"basketball\", \"soccer\", \"tennis\", \"football\", \"baseball\"]\n",
    "\n",
    "ppl_play = {\"hockey\":4, \"soccer\": 10, \"football\": 15, \"tennis\": 8}\n",
    "\n",
    "for x in sport:\n",
    "    try:\n",
    "         print(ppl_play[x])\n",
    "    except:\n",
    "        ppl_play[x]=1\n",
    "print(ppl_play)"
   ]
  },
  {
   "cell_type": "code",
   "execution_count": null,
   "metadata": {},
   "outputs": [],
   "source": [
    "'''Provided is a buggy for loop that tries to accumulate some values out of some \n",
    "dictionaries. Insert a try/except so that the code passes. If the key is not there, \n",
    "initialize it in the dictionary and set the value to zero.'''\n",
    "di = [{\"Puppies\": 17, 'Kittens': 9, \"Birds\": 23, 'Fish': 90, \"Hamsters\": 49}, {\"Puppies\": 23, \"Birds\": 29, \"Fish\": 20, \"Mice\": 20, \"Snakes\": 7}, {\"Fish\": 203, \"Hamsters\": 93, \"Snakes\": 25, \"Kittens\": 89}, {\"Birds\": 20, \"Puppies\": 90, \"Snakes\": 21, \"Fish\": 10, \"Kittens\": 67}]\n",
    "total = 0\n",
    "for diction in di:\n",
    "    total = total + diction['Puppies']\n",
    "\n",
    "print(\"Total number of puppies:\", total)"
   ]
  }
 ],
 "metadata": {
  "kernelspec": {
   "display_name": "Python 3",
   "language": "python",
   "name": "python3"
  },
  "language_info": {
   "codemirror_mode": {
    "name": "ipython",
    "version": 3
   },
   "file_extension": ".py",
   "mimetype": "text/x-python",
   "name": "python",
   "nbconvert_exporter": "python",
   "pygments_lexer": "ipython3",
   "version": "3.8.3"
  }
 },
 "nbformat": 4,
 "nbformat_minor": 4
}
