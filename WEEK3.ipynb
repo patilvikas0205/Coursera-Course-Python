{
 "cells": [
  {
   "cell_type": "code",
   "execution_count": 4,
   "metadata": {},
   "outputs": [
    {
     "name": "stdout",
     "output_type": "stream",
     "text": [
      "5\n"
     ]
    }
   ],
   "source": [
    "'''rainfall_mi is a string that contains the average number of inches of rainfall in Michigan for every month \n",
    "(in inches) with every month separated by a comma. Write code to compute the number of months that have more \n",
    "than 3 inches of rainfall. Store the result in the variable num_rainy_months. In other words, count the number of \n",
    "items with values > 3.0.\n",
    "Hard-coded answers will receive no credit.'''\n",
    "rainfall_mi = \"1.65, 1.46, 2.05, 3.03, 3.35, 3.46, 2.83, 3.23, 3.5, 2.52, 2.8, 1.85\"\n",
    "rain_month=rainfall_mi.split(\", \")\n",
    "num_rainy_months=0\n",
    "for rain in rain_month:\n",
    "    if float(rain)>3.0:\n",
    "        num_rainy_months+=1\n",
    "print(num_rainy_months)"
   ]
  },
  {
   "cell_type": "code",
   "execution_count": 7,
   "metadata": {},
   "outputs": [
    {
     "data": {
      "text/plain": [
       "2"
      ]
     },
     "execution_count": 7,
     "metadata": {},
     "output_type": "execute_result"
    }
   ],
   "source": [
    "'''The variable sentence stores a string. Write code to determine how many words in \n",
    "sentence start and end with the same letter, including one-letter words. Store the result \n",
    "in the variable same_letter_count.\n",
    "Hard-coded answers will receive no credit.'''\n",
    "\n",
    "sentence = \"students flock to the arb for a variety of outdoor activities such as jogging and picnicking\"\n",
    "words=sentence.split(\" \")\n",
    "same_letter_count=0\n",
    "for word in words:\n",
    "    if (word.startswith(word[0]) and word.endswith(word[0])):\n",
    "        same_letter_count+=1\n",
    "same_letter_count\n",
    "# Write your code here.\n",
    "\n",
    "\n"
   ]
  },
  {
   "cell_type": "code",
   "execution_count": 18,
   "metadata": {},
   "outputs": [
    {
     "data": {
      "text/plain": [
       "4"
      ]
     },
     "execution_count": 18,
     "metadata": {},
     "output_type": "execute_result"
    }
   ],
   "source": [
    "'''Write code to count the number of strings in list items that have the character w in it. \n",
    "Assign that number to the variable acc_num.\n",
    "HINT 1: Use the accumulation pattern!\n",
    "HINT 2: the in operator checks whether a substring is present in a string.\n",
    "Hard-coded answers will receive no credit.'''\n",
    "items = [\"whirring\", \"wow!\", \"calendar\", \"wry\", \"glass\", \"\", \"llama\",\"tumultuous\",\"owing\"]\n",
    "acc_num=0\n",
    "for word in items:\n",
    "    for chrs in word:\n",
    "        if chrs=='w':\n",
    "            acc_num+=1\n",
    "            break\n",
    "acc_num"
   ]
  },
  {
   "cell_type": "code",
   "execution_count": 20,
   "metadata": {},
   "outputs": [
    {
     "data": {
      "text/plain": [
       "14"
      ]
     },
     "execution_count": 20,
     "metadata": {},
     "output_type": "execute_result"
    }
   ],
   "source": [
    "'''Write code that counts the number of words in sentence that contain either an “a” or an “e”. \n",
    "Store the result in the variable num_a_or_e.\n",
    "Note 1: be sure to not double-count words that contain both an a and an e.\n",
    "HINT 1: Use the in operator.\n",
    "HINT 2: You can either use or or elif.\n",
    "Hard-coded answers will receive no credit.'''\n",
    "sentence = \"python is a high level general purpose programming language that can be applied to many different classes of problems.\"\n",
    "words=sentence.split(\" \")\n",
    "num_a_or_e=0\n",
    "for word in words:\n",
    "    for chrs in word:\n",
    "        if (chrs=='a' or chrs=='e'):\n",
    "            num_a_or_e+=1\n",
    "            break\n",
    "num_a_or_e\n",
    "\n"
   ]
  },
  {
   "cell_type": "code",
   "execution_count": 24,
   "metadata": {},
   "outputs": [
    {
     "data": {
      "text/plain": [
       "32"
      ]
     },
     "execution_count": 24,
     "metadata": {},
     "output_type": "execute_result"
    }
   ],
   "source": [
    "'''Write code that will count the number of vowels in the sentence s and assign \n",
    "the result to the variable num_vowels. For this problem, \n",
    "vowels are only a, e, i, o, and u. Hint: use the in operator with vowels.'''\n",
    "s = \"singing in the rain and playing in the rain are two entirely different situations but both can be fun\"\n",
    "vowels = ['a','e','i','o','u']\n",
    "words=s.split(\" \")\n",
    "num_vowels=0\n",
    "for word in words:\n",
    "    for chr in word:\n",
    "        if chr in vowels:\n",
    "            num_vowels+=1\n",
    "num_vowels"
   ]
  },
  {
   "cell_type": "code",
   "execution_count": 27,
   "metadata": {},
   "outputs": [
    {
     "data": {
      "text/plain": [
       "['cricket',\n",
       " 'football',\n",
       " 'horseback riding',\n",
       " 'volleyball',\n",
       " 'baseball',\n",
       " 'softball',\n",
       " 'track and field',\n",
       " 'curling',\n",
       " 'ping pong',\n",
       " 'hockey']"
      ]
     },
     "execution_count": 27,
     "metadata": {},
     "output_type": "execute_result"
    }
   ],
   "source": [
    "'''Write code to add ‘horseback riding’ to the third position (i.e., right before volleyball) in the list sports.'''\n",
    "\n",
    "sports = ['cricket', 'football', 'volleyball', 'baseball', 'softball', 'track and field', 'curling', 'ping pong', 'hockey']\n",
    "\n",
    "sports.insert(2,\"horseback riding\")\n",
    "sports"
   ]
  },
  {
   "cell_type": "code",
   "execution_count": 28,
   "metadata": {},
   "outputs": [],
   "source": [
    "'''Write code to take ‘London’ out of the list trav_dest.'''\n",
    "trav_dest = ['Beirut', 'Milan', 'Pittsburgh', 'Buenos Aires', 'Nairobi', 'Kathmandu', 'Osaka', 'London', 'Melbourne']\n",
    "trav_dest.remove('London')\n",
    "\n"
   ]
  },
  {
   "cell_type": "code",
   "execution_count": 29,
   "metadata": {},
   "outputs": [],
   "source": [
    "winners = ['Kazuo Ishiguro', 'Rainer Weiss', 'Youyou Tu', 'Malala Yousafzai', 'Alice Munro', 'Alvin E. Roth']\n",
    "winners.sort()"
   ]
  }
 ],
 "metadata": {
  "kernelspec": {
   "display_name": "Python 3",
   "language": "python",
   "name": "python3"
  },
  "language_info": {
   "codemirror_mode": {
    "name": "ipython",
    "version": 3
   },
   "file_extension": ".py",
   "mimetype": "text/x-python",
   "name": "python",
   "nbconvert_exporter": "python",
   "pygments_lexer": "ipython3",
   "version": "3.8.3"
  }
 },
 "nbformat": 4,
 "nbformat_minor": 2
}
